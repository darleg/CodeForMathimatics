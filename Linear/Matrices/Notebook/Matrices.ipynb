{
 "cells": [
  {
   "cell_type": "markdown",
   "id": "d1f3f069",
   "metadata": {},
   "source": [
    "# Matrix\n",
    "- A matrix is a rectangular array of numbers \n",
    "- The size of a matrix is defined by the number of rows and columns it contains.\n"
   ]
  },
  {
   "cell_type": "markdown",
   "id": "9caf6680",
   "metadata": {},
   "source": [
    "# Adition of Matrices\n",
    "1. define two matrices with same data type elements in them.\n",
    "2. define a third matrixC with 0 elements in it and of same sizede\n",
    "3. fine the length of the matrix\n",
    "4. add matrixA and matrixB matrices use the nested for loop\n",
    "5. print MatrixC"
   ]
  },
  {
   "cell_type": "code",
   "execution_count": 3,
   "id": "6657c60b",
   "metadata": {},
   "outputs": [
    {
     "name": "stdout",
     "output_type": "stream",
     "text": [
      "[9, 9, 9]\n",
      "[9, 9, 9]\n",
      "[9, 9, 9]\n"
     ]
    }
   ],
   "source": [
    "MatrixA = [[2,7,3],\n",
    "           [4 ,5,6],\n",
    "           [7 ,8,9]]\n",
    "\n",
    "MatrixB = [[7,2,6],\n",
    "           [5,4,3],\n",
    "           [2,1,0]]\n",
    "\n",
    "MatrixC = [[0,0,0],\n",
    "           [0,0,0],\n",
    "           [0,0,0]]\n",
    "\n",
    "MatLen = len(MatrixA)\n",
    "\n",
    "for row in range(len(MatrixA)):\n",
    "   for col in range(len(MatrixA[0])):\n",
    "       MatrixC[row][col] = MatrixA[row][col] + MatrixB[row][col]\n",
    "\n",
    "for Mat in MatrixC:\n",
    "   print(Mat)\n"
   ]
  },
  {
   "cell_type": "markdown",
   "id": "acc85867",
   "metadata": {},
   "source": [
    "# Multiplcation of Matrices\n",
    "1. define two matrices in whitch column of Matrix D equals the row of Matrix E.\n",
    "2. define a Matrix F with 0 elements where Matrix F size is = D rows and E columns\n",
    "3. fine the length of the Matrix D and E\n",
    "4. Multiply matrixA and matrixB matrices use the nested for loop\n",
    "5. print MatrixF"
   ]
  },
  {
   "cell_type": "code",
   "execution_count": 3,
   "id": "60062bc7",
   "metadata": {},
   "outputs": [
    {
     "name": "stdout",
     "output_type": "stream",
     "text": [
      "[34, 13, 19, 0]\n",
      "[79, 40, 55, 0]\n",
      "[124, 67, 91, 0]\n"
     ]
    }
   ],
   "source": [
    "MatrixD = [[1,2,3],\n",
    "           [4 ,5,6],\n",
    "           [7 ,8,9]]\n",
    "\n",
    "MatrixE = [[5,6,7,8],\n",
    "           [1,2,3,4],\n",
    "           [9,1,2,3]]\n",
    "\n",
    "MatrixF = [[0,0,0,0],\n",
    "           [0,0,0,0],\n",
    "           [0,0,0,0]]\n",
    "\n",
    "for Arow in range(len(MatrixD)):\n",
    "   for Acol in range(len(MatrixD[0])):\n",
    "       for Brow in range(len(MatrixE)):\n",
    "           MatrixF[Arow][Acol] += MatrixD[Arow][Brow] * MatrixE[Brow][Acol]\n",
    "\n",
    "for m in MatrixF:\n",
    "   print(m)"
   ]
  },
  {
   "cell_type": "markdown",
   "id": "b18f66d3",
   "metadata": {},
   "source": [
    "# Uing the numpy Lib\n",
    "1. Addition\n",
    "2. Subtration\n",
    "3. Multiplication"
   ]
  },
  {
   "cell_type": "code",
   "execution_count": 10,
   "id": "536ab41e",
   "metadata": {
    "scrolled": true
   },
   "outputs": [
    {
     "name": "stdout",
     "output_type": "stream",
     "text": [
      "Add Matrix H to Matrix G:\n",
      "[[ 9  9 13]\n",
      " [17 12 12]]\n",
      "Subtract Matrix G from Matrix H:\n",
      "[[7 3 5]\n",
      " [1 2 0]]\n"
     ]
    }
   ],
   "source": [
    "from numpy import array, add, subtract, dot\n",
    "\n",
    "MatrixG = array([[1, 3, 4],\n",
    "                 [8, 5, 6]])\n",
    "MatrixH = array([[8, 6, 9],\n",
    "                 [9, 7, 6]])\n",
    "MatrixD = [[1,2,3],\n",
    "           [4 ,5,6],\n",
    "           [7 ,8,9]]\n",
    "\n",
    "MatrixE = [[5,6,7,8],\n",
    "           [1,2,3,4],\n",
    "           [9,1,2,3]]\n",
    "# Add two matrices\n",
    "print(\"Add Matrix H to Matrix G:\")\n",
    "MatrixI = add(MatrixG, MatrixH)\n",
    "print(MatrixI)\n",
    "\n",
    "# Subtract two matrices\n",
    "print(\"Subtract Matrix G from Matrix H:\")\n",
    "MatrixJ = subtract(MatrixH, MatrixG)\n",
    "print(MatrixJ)"
   ]
  },
  {
   "cell_type": "markdown",
   "id": "b359a022",
   "metadata": {},
   "source": [
    "Calculate dot product from two Matrices"
   ]
  },
  {
   "cell_type": "code",
   "execution_count": 16,
   "id": "374d798b",
   "metadata": {},
   "outputs": [
    {
     "name": "stdout",
     "output_type": "stream",
     "text": [
      "dot product from two Matrices\n",
      "[[ 34  10  16  22]\n",
      " [ 79  34  49  64]\n",
      " [124  58  82 106]]\n"
     ]
    }
   ],
   "source": [
    "A = [[1, 2, 3],\n",
    "     [4, 5, 6],\n",
    "     [7, 8, 9]]\n",
    "\n",
    "B = [[5, 6, 7, 8],\n",
    "     [1, 2, 3, 4],\n",
    "     [9, 0, 1, 2]]\n",
    "\n",
    "print(\"dot product from two Matrices\")\n",
    "print(dot(A, B))"
   ]
  },
  {
   "cell_type": "markdown",
   "id": "1c0e99da",
   "metadata": {},
   "source": [
    "Calculate dot product from two 2-D arrays"
   ]
  },
  {
   "cell_type": "code",
   "execution_count": 17,
   "id": "d8c00ab9",
   "metadata": {},
   "outputs": [
    {
     "name": "stdout",
     "output_type": "stream",
     "text": [
      "dot product from two Arrays\n",
      "[[19 22]\n",
      " [43 50]]\n"
     ]
    }
   ],
   "source": [
    "A = array([[1, 2], [3, 4]])\n",
    "B = array([[5, 6], [7, 8]])\n",
    "print(\"dot product from two Arrays\")\n",
    "print(dot(A, B))"
   ]
  },
  {
   "cell_type": "code",
   "execution_count": null,
   "id": "5543b6c2",
   "metadata": {},
   "outputs": [],
   "source": []
  }
 ],
 "metadata": {
  "kernelspec": {
   "display_name": "Python 3 (ipykernel)",
   "language": "python",
   "name": "python3"
  },
  "language_info": {
   "codemirror_mode": {
    "name": "ipython",
    "version": 3
   },
   "file_extension": ".py",
   "mimetype": "text/x-python",
   "name": "python",
   "nbconvert_exporter": "python",
   "pygments_lexer": "ipython3",
   "version": "3.10.7"
  }
 },
 "nbformat": 4,
 "nbformat_minor": 5
}
