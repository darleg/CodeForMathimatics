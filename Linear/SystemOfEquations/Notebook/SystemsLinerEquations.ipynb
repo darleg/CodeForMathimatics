{
 "cells": [
  {
   "cell_type": "markdown",
   "id": "ab7926ad",
   "metadata": {},
   "source": [
    "## Systems of Linear Equations\n",
    "\n",
    "When you have two or more equations in the form\n",
    "\n",
    "$$ \\begin{matrix}\n",
    " C_{11} x_1 + C_{12} x_2 + ... & = & S_1 \\\\\n",
    " C_{21} x_1 + C_{22} x_2 + ... & = & S_2 \\\\ \n",
    " ... &  & \n",
    "\\end{matrix}$$\n",
    "\n",
    "where the $C_{ij}$ are constant coefficients and the $S_i$ are also constants,\n",
    "solution by hand can be tedious and error-prone.\n",
    "\n",
    "The computer can solve this by matrix methods. (You learn about this in  linear algebra, but if you haven't yet studied that don't worry.) The trick is to write the coefficients as a matrix that is multiplied to a column of variables.\n",
    "\n",
    "For example, the two equations \n",
    "\n",
    "$$Ax + By = E\\\\\n",
    "  Cx + Dy = F $$\n",
    "\n",
    "are written as\n",
    "\n",
    "$$\\begin{bmatrix}A & B \\\\ C & D \\end{bmatrix}\n",
    "\\begin{bmatrix} x\\\\ y\\end{bmatrix} = \n",
    "\\begin{bmatrix} E\\\\ F\\end{bmatrix} $$\n",
    "\n",
    "Now Python can solve this with its \n",
    "[linear algebra](http://docs.scipy.org/doc/numpy/reference/routines.linalg.html)\n",
    "routines as follows.\n",
    "\n",
    "### Two Linear Equations\n",
    "\n",
    "Solve the following equations for $x$ and $y$:\n",
    "\n",
    "$$ 5x+4y=-1 \\\\\n",
    "   -7x-2y=-13 $$\n",
    "\n",
    "Get the problem into matrix form:\n",
    "\n",
    "$$\\begin{bmatrix}5 & 4 \\\\ -7 & -2 \\end{bmatrix}\n",
    "\\begin{bmatrix} x\\\\ y\\end{bmatrix} = \n",
    "\\begin{bmatrix} -1\\\\ -13\\end{bmatrix} $$\n",
    "\n",
    "And let `numpy.linalg` do the rest:\n"
   ]
  },
  {
   "cell_type": "code",
   "execution_count": 4,
   "id": "81b5d094-fce7-4c4d-976c-9551c303fa5b",
   "metadata": {},
   "outputs": [],
   "source": [
    "from numpy import array, linalg"
   ]
  },
  {
   "cell_type": "code",
   "execution_count": 5,
   "id": "cea7b0ba",
   "metadata": {},
   "outputs": [
    {
     "name": "stdout",
     "output_type": "stream",
     "text": [
      "[ 3. -4.]\n"
     ]
    }
   ],
   "source": [
    "CC = array(((  5.,  4. ),\n",
    "            ( -7., -2. )))\n",
    "SS = array(( -1., -13. ))\n",
    "solution = linalg.solve(CC,SS)\n",
    "print  (solution)"
   ]
  },
  {
   "cell_type": "markdown",
   "id": "80857ad9",
   "metadata": {},
   "source": [
    "That is, $x=3$ and $y=-4$ solve our system of equations.\n",
    "\n",
    "### Three Linear Equations\n",
    "\n",
    "Solve the following equations for $x$, $y$ and $z$:\n",
    "\n",
    "$$ 2x+-y+3z=37 \\\\\n",
    "    x+y-3z=-16 \\\\\n",
    "   -3x+5z=24 $$\n",
    "\n",
    "Generalizing to three or more equations is straightforward.\n"
   ]
  },
  {
   "cell_type": "code",
   "execution_count": 6,
   "id": "c866ad88",
   "metadata": {},
   "outputs": [
    {
     "name": "stdout",
     "output_type": "stream",
     "text": [
      "[7. 4. 9.]\n"
     ]
    }
   ],
   "source": [
    "CC = array(((  2, -1,  3 ),\n",
    "            (  1,  1, -3 ),\n",
    "            ( -3,  0,  5 )))\n",
    "SS = array((  37,-16, 24 ))\n",
    "solution = linalg.solve(CC,SS)\n",
    "print  (solution)"
   ]
  },
  {
   "cell_type": "markdown",
   "id": "2418ba42",
   "metadata": {},
   "source": [
    "Solution: $x=7$, $y=4$, $z=9$\n"
   ]
  }
 ],
 "metadata": {
  "kernelspec": {
   "display_name": "Python 3 (ipykernel)",
   "language": "python",
   "name": "python3"
  },
  "language_info": {
   "codemirror_mode": {
    "name": "ipython",
    "version": 3
   },
   "file_extension": ".py",
   "mimetype": "text/x-python",
   "name": "python",
   "nbconvert_exporter": "python",
   "pygments_lexer": "ipython3",
   "version": "3.12.3"
  }
 },
 "nbformat": 4,
 "nbformat_minor": 5
}
