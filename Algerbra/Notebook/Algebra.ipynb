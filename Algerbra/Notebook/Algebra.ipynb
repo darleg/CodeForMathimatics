{
 "cells": [
  {
   "cell_type": "markdown",
   "id": "23fcee68",
   "metadata": {},
   "source": [
    "# Algerbra\n",
    "- Algebraic Expressions\n",
    "- Evauation\n",
    "- Exspand\n",
    "- Symplify\n",
    "- Solve"
   ]
  },
  {
   "cell_type": "code",
   "execution_count": 2,
   "id": "282972d3",
   "metadata": {},
   "outputs": [],
   "source": [
    "from sympy import Symbol, expand, simplify, Eq, solve"
   ]
  },
  {
   "cell_type": "code",
   "execution_count": 3,
   "id": "5d0ba94b",
   "metadata": {},
   "outputs": [],
   "source": [
    "# Define symbolic variables\n",
    "x = Symbol('x')\n",
    "y = Symbol('y')"
   ]
  },
  {
   "cell_type": "markdown",
   "id": "b0af0bea",
   "metadata": {},
   "source": [
    "## Algebraic Expressions\n",
    "- 2x     : expression\n",
    "- 2x + y : binomial\n",
    "- 2x = 8 : equation"
   ]
  },
  {
   "cell_type": "code",
   "execution_count": 4,
   "id": "a5cd2aa7",
   "metadata": {},
   "outputs": [],
   "source": [
    "# Algebraic Expressions\n",
    "ex1 = x**3 + x*y - x**2 - 2*y + y**3\n",
    "ex2 = (x + y) * (x - y)\n",
    "ex3 = (x**2 - y**2)/(x + y)"
   ]
  },
  {
   "cell_type": "markdown",
   "id": "315c3aa7",
   "metadata": {},
   "source": [
    "## Evaluating an Expression with One or Two Variables"
   ]
  },
  {
   "cell_type": "code",
   "execution_count": 5,
   "id": "37de4c62",
   "metadata": {},
   "outputs": [
    {
     "name": "stdout",
     "output_type": "stream",
     "text": [
      "Expression 1: x**3 - x**2 + x*y + y**3 - 2*y\n",
      "Evaluate for (2,1): 5\n",
      "Evaluate for (1,2): 6\n"
     ]
    }
   ],
   "source": [
    "# Evaluate\n",
    "ev1 = ex1.subs({x:2, y:1})\n",
    "ev2 = ex1.subs({x:1, y:2})\n",
    "print('Expression 1:', ex1)\n",
    "print('Evaluate for (2,1):',ev1)\n",
    "print('Evaluate for (1,2):',ev2)"
   ]
  },
  {
   "cell_type": "markdown",
   "id": "dda36d3d",
   "metadata": {},
   "source": [
    "## Exspand"
   ]
  },
  {
   "cell_type": "code",
   "execution_count": 6,
   "id": "a9820577",
   "metadata": {},
   "outputs": [
    {
     "name": "stdout",
     "output_type": "stream",
     "text": [
      "Expression 2: (x - y)*(x + y)\n",
      "Expanstion : x**2 - y**2\n"
     ]
    }
   ],
   "source": [
    "# Exspand\n",
    "print('Expression 2:',ex2)\n",
    "exp = expand(ex2)\n",
    "print('Expanstion :', exp)"
   ]
  },
  {
   "cell_type": "markdown",
   "id": "69187ec2",
   "metadata": {},
   "source": [
    "## Simplify"
   ]
  },
  {
   "cell_type": "code",
   "execution_count": 7,
   "id": "6120ec47",
   "metadata": {},
   "outputs": [
    {
     "name": "stdout",
     "output_type": "stream",
     "text": [
      "Expression 3: (x**2 - y**2)/(x + y)\n",
      "Simplify: x - y\n"
     ]
    }
   ],
   "source": [
    "# Simplify\n",
    "print('Expression 3:', ex3)\n",
    "simp = simplify(ex3)\n",
    "print('Simplify:', simp)"
   ]
  },
  {
   "cell_type": "markdown",
   "id": "2e258991",
   "metadata": {},
   "source": [
    "## Solve"
   ]
  },
  {
   "cell_type": "code",
   "execution_count": 8,
   "id": "73e43cf4",
   "metadata": {},
   "outputs": [
    {
     "name": "stdout",
     "output_type": "stream",
     "text": [
      "Equation 1: Eq(x + y, 8)\n",
      "Equation 2: Eq(x - y, 8)\n",
      "Solution: {x: 8, y: 0}\n"
     ]
    }
   ],
   "source": [
    "# Is there a suloution for this system of equations?\n",
    "# x + y = 8\n",
    "# x - y = 8\n",
    "\n",
    "eq1 = Eq((x + y), 8)\n",
    "eq2 = Eq((x - y), 8)\n",
    "print(\"Equation 1:\", eq1)\n",
    "print(\"Equation 2:\", eq2)\n",
    "sol = solve((eq1, eq2), (x, y))\n",
    "print(\"Solution:\", sol)\n"
   ]
  },
  {
   "cell_type": "code",
   "execution_count": null,
   "id": "37b55f5c",
   "metadata": {},
   "outputs": [],
   "source": []
  }
 ],
 "metadata": {
  "kernelspec": {
   "display_name": "Python 3 (ipykernel)",
   "language": "python",
   "name": "python3"
  },
  "language_info": {
   "codemirror_mode": {
    "name": "ipython",
    "version": 3
   },
   "file_extension": ".py",
   "mimetype": "text/x-python",
   "name": "python",
   "nbconvert_exporter": "python",
   "pygments_lexer": "ipython3",
   "version": "3.12.3"
  }
 },
 "nbformat": 4,
 "nbformat_minor": 5
}
