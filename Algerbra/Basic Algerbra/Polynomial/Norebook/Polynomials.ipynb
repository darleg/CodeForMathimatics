{
 "cells": [
  {
   "cell_type": "markdown",
   "id": "58054761-4604-49f9-ac24-f65dfff89ed7",
   "metadata": {},
   "source": [
    "# Polynomials"
   ]
  },
  {
   "cell_type": "code",
   "execution_count": 123,
   "id": "070e3885-2e39-455b-914f-4975e025fea3",
   "metadata": {},
   "outputs": [],
   "source": [
    "from numpy import poly1d, polyadd, polysub, polymul, polyder, polyint, roots"
   ]
  },
  {
   "cell_type": "markdown",
   "id": "249d4f9b-52e2-4876-8d90-db31b3e6a969",
   "metadata": {},
   "source": [
    "## Evaluate"
   ]
  },
  {
   "cell_type": "markdown",
   "id": "788f07a0-d0b0-4bdb-bd62-fcf6ac0e0e52",
   "metadata": {},
   "source": [
    "### Define the polynomial coefficients $2x^3 - 4x^2 + 3x - 5$"
   ]
  },
  {
   "cell_type": "code",
   "execution_count": 124,
   "id": "58c8b127-5e62-414b-ba72-f83a024d6808",
   "metadata": {},
   "outputs": [
    {
     "name": "stdout",
     "output_type": "stream",
     "text": [
      "Polynomial:\n",
      "   3     2\n",
      "2 x - 4 x + 3 x - 5\n",
      "\n",
      "Value of the polynomial at x = 2:\n",
      "1\n"
     ]
    }
   ],
   "source": [
    "# Define the polynomial coefficients (2x^3 - 4x^2 + 3x - 5)\n",
    "coef = [2, -4, 3, -5]\n",
    "# Create a polynomial object\n",
    "p = poly1d(coef)\n",
    "# Print the polynomial\n",
    "print(\"Polynomial:\")\n",
    "print(p)\n",
    "# Evaluate the polynomial at a specific value (x = 2)\n",
    "value = 2\n",
    "print(f\"\\nValue of the polynomial at x = {value}:\")\n",
    "print(p(value))"
   ]
  },
  {
   "cell_type": "markdown",
   "id": "9ca823a8-23a4-4283-9a6b-230bfbaa6b2d",
   "metadata": {},
   "source": [
    "## Addision and Subtractions"
   ]
  },
  {
   "cell_type": "markdown",
   "id": "14e306a9-14fd-4822-83d0-2833b0e11dcf",
   "metadata": {},
   "source": [
    "### Define the coefficients of two polynomials"
   ]
  },
  {
   "cell_type": "markdown",
   "id": "d5ead856-9e83-4e12-9286-a229c4a2d2e3",
   "metadata": {},
   "source": [
    "$$\\large 2x^2 - 4x + 3$$\n",
    "\n",
    "$$\\large x^2 + 2x - 1$$"
   ]
  },
  {
   "cell_type": "code",
   "execution_count": 125,
   "id": "216b63dc-e6f7-47c3-aa13-929cab4b3a3f",
   "metadata": {},
   "outputs": [],
   "source": [
    "# Define the coefficients of two polynomials\n",
    "p1 = poly1d([2, -4, 3])  # 2x^2 - 4x + 3\n",
    "p2 = poly1d([1, 2, -1])  # x^2 + 2x - 1\n",
    "p3 = poly1d([1, 0, -1])  # x^2 - 1"
   ]
  },
  {
   "cell_type": "markdown",
   "id": "8c152865-4423-4cb4-82f3-729fd9fb4884",
   "metadata": {},
   "source": [
    "### Adddition"
   ]
  },
  {
   "cell_type": "code",
   "execution_count": 126,
   "id": "1ef1b554-c19b-4817-9b5d-030b378ef50e",
   "metadata": {},
   "outputs": [
    {
     "name": "stdout",
     "output_type": "stream",
     "text": [
      "Sum of the polynomials p1 and p2:\n",
      "   2\n",
      "3 x - 2 x + 2\n"
     ]
    }
   ],
   "source": [
    "# Add the polynomials\n",
    "sumPoly = polyadd(p1, p2)\n",
    "print(\"Sum of the polynomials p1 and p2:\")\n",
    "print(poly1d(sumPoly))"
   ]
  },
  {
   "cell_type": "markdown",
   "id": "a1f71951-d9d7-4820-8f3c-0d20b26e2770",
   "metadata": {},
   "source": [
    "### Subtraction"
   ]
  },
  {
   "cell_type": "code",
   "execution_count": 127,
   "id": "bf29e47a-37ac-4edc-ba74-4dab41a8dfa2",
   "metadata": {
    "jupyter": {
     "source_hidden": true
    }
   },
   "outputs": [
    {
     "name": "stdout",
     "output_type": "stream",
     "text": [
      "\n",
      "Difference of the polynomials p1 and p2:\n",
      "   2\n",
      "1 x - 6 x + 4\n"
     ]
    }
   ],
   "source": [
    "# Subtract the polynomials\n",
    "diffPoly = polysub(p1, p2)\n",
    "print(\"\\nDifference of the polynomials p1 and p2:\")\n",
    "print(poly1d(diffPoly))"
   ]
  },
  {
   "cell_type": "markdown",
   "id": "1c089d2a-3fbd-4ccc-810b-0cfdb12a6246",
   "metadata": {},
   "source": [
    "$$\\large 2x^2 - 4x + 3$$\n",
    "\n",
    "$$\\large x^2 - 1$$"
   ]
  },
  {
   "cell_type": "code",
   "execution_count": 128,
   "id": "67db4669-939b-449d-b03c-9ab2ab080cf7",
   "metadata": {},
   "outputs": [
    {
     "name": "stdout",
     "output_type": "stream",
     "text": [
      "Product of the polynomials p1 and p3:\n",
      "   4     3     2\n",
      "2 x - 4 x + 1 x + 4 x - 3\n"
     ]
    }
   ],
   "source": [
    "# Multiply the polynomials\n",
    "prodPoly = polymul(p1, p3)\n",
    "print(\"Product of the polynomials p1 and p3:\")\n",
    "print(poly1d(prodPoly))"
   ]
  },
  {
   "cell_type": "markdown",
   "id": "6bf82f3f-c7cf-46dd-9040-3cc5cc594b23",
   "metadata": {},
   "source": [
    "### Define the polynomial coefficients $2x^2 - 4x + 3$"
   ]
  },
  {
   "cell_type": "code",
   "execution_count": 129,
   "id": "62ccc07d-e4ee-4bc6-bb5b-48641b460361",
   "metadata": {},
   "outputs": [],
   "source": [
    "coef = [2, -4, 3]\n",
    "# Create a polynomial object\n",
    "p = poly1d(coef)"
   ]
  },
  {
   "cell_type": "markdown",
   "id": "ef51fbfb-c8fc-4edb-bb79-c1f063d59f62",
   "metadata": {},
   "source": [
    "### Derivitive"
   ]
  },
  {
   "cell_type": "code",
   "execution_count": 130,
   "id": "a15ef60e-379c-4aea-b966-aac138ae4e75",
   "metadata": {},
   "outputs": [
    {
     "name": "stdout",
     "output_type": "stream",
     "text": [
      "Derivative of the Polynomial:\n",
      " \n",
      "4 x - 4\n"
     ]
    }
   ],
   "source": [
    "# Differentiate the polynomial\n",
    "derPoly = polyder(p)\n",
    "print(\"Derivative of the Polynomial:\")\n",
    "print(derPoly)"
   ]
  },
  {
   "cell_type": "markdown",
   "id": "6c16e0d8-2f0c-4771-9a70-04865c75d4f9",
   "metadata": {},
   "source": [
    "### Intergrate"
   ]
  },
  {
   "cell_type": "code",
   "execution_count": 131,
   "id": "096bddc5-2c19-4420-8ad3-f1a270ab0053",
   "metadata": {},
   "outputs": [
    {
     "name": "stdout",
     "output_type": "stream",
     "text": [
      "Integral of the Polynomial:\n",
      "        3     2\n",
      "0.6667 x - 2 x + 3 x\n"
     ]
    }
   ],
   "source": [
    "# Integrate the polynomial\n",
    "intPoly = polyint(p)\n",
    "print(\"Integral of the Polynomial:\")\n",
    "print(intPoly)"
   ]
  },
  {
   "cell_type": "code",
   "execution_count": 132,
   "id": "f30173bb-87bb-490d-a927-766c11c385a8",
   "metadata": {},
   "outputs": [
    {
     "name": "stdout",
     "output_type": "stream",
     "text": [
      "Roots of the Polynomial:\n",
      "[1.+0.70710678j 1.-0.70710678j]\n"
     ]
    }
   ],
   "source": [
    "# Find the roots of the polynomial\n",
    "r = roots(p)\n",
    "print(\"Roots of the Polynomial:\")\n",
    "print(r)"
   ]
  },
  {
   "cell_type": "code",
   "execution_count": null,
   "id": "5a52a050-f344-4a01-afe6-4654126e2c53",
   "metadata": {},
   "outputs": [],
   "source": []
  }
 ],
 "metadata": {
  "kernelspec": {
   "display_name": "Python 3 (ipykernel)",
   "language": "python",
   "name": "python3"
  },
  "language_info": {
   "codemirror_mode": {
    "name": "ipython",
    "version": 3
   },
   "file_extension": ".py",
   "mimetype": "text/x-python",
   "name": "python",
   "nbconvert_exporter": "python",
   "pygments_lexer": "ipython3",
   "version": "3.12.3"
  }
 },
 "nbformat": 4,
 "nbformat_minor": 5
}
