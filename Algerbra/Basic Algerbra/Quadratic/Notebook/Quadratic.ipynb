{
 "cells": [
  {
   "cell_type": "markdown",
   "id": "7d7477c0-0de2-4ea7-9f02-31326a354c4b",
   "metadata": {},
   "source": [
    "# Solve Quadratic Equations"
   ]
  },
  {
   "cell_type": "markdown",
   "id": "6790ee71-f37d-45ea-a817-f74673f90f9a",
   "metadata": {},
   "source": [
    "## Solve quadratic by factoring"
   ]
  },
  {
   "cell_type": "code",
   "execution_count": 19,
   "id": "9e016ed9-b928-48b2-b9e6-0fca5c624916",
   "metadata": {},
   "outputs": [
    {
     "name": "stdout",
     "output_type": "stream",
     "text": [
      "Factoring Method Roots: (2.0, 1.0)\n"
     ]
    }
   ],
   "source": [
    "# Sove quadratic by factoring\n",
    "def solveQuadraticFactoring(a, b, c):\n",
    "    discr = b**2 - 4*a*c\n",
    "    if discr < 0:\n",
    "        return \"No real roots\"\n",
    "    if discr == 0:\n",
    "        root = -b / (2 * a)\n",
    "        return (root, root)\n",
    "    if discr > 0:\n",
    "        root1 = (-b + (b**2 - 4*a*c)**0.5) / (2*a)\n",
    "        root2 = (-b - (b**2 - 4*a*c)**0.5) / (2*a)\n",
    "        return (root1, root2)\n",
    "\n",
    "# Coefficients\n",
    "a, b, c = 1, -3, 2\n",
    "\n",
    "roots = solveQuadraticFactoring(a, b, c)\n",
    "print(\"Factoring Method Roots:\", roots)"
   ]
  },
  {
   "cell_type": "markdown",
   "id": "900f3ec8-d123-4190-995a-91ef19b5c9e0",
   "metadata": {},
   "source": [
    "## Solve with quadratic equation"
   ]
  },
  {
   "cell_type": "code",
   "execution_count": 20,
   "id": "96b057be-2434-4c52-b751-b4639aaa9937",
   "metadata": {},
   "outputs": [
    {
     "name": "stdout",
     "output_type": "stream",
     "text": [
      "Quadratic Formula Roots: ((2+0j), (1+0j))\n"
     ]
    }
   ],
   "source": [
    "from cmath import sqrt\n",
    "# Solve with quadratic equation\n",
    "def solveQuadratic(a, b, c):\n",
    "    discr = b**2 - 4*a*c # discriminant\n",
    "    root1 = (-b + sqrt(discr)) / (2*a)\n",
    "    root2 = (-b - sqrt(discr)) / (2*a)\n",
    "    return root1, root2\n",
    "\n",
    "# Coefficients of the quadratic equation\n",
    "a, b, c = 1, -3, 2\n",
    "\n",
    "roots = solveQuadratic(a, b, c)\n",
    "print(\"Quadratic Formula Roots:\", roots)"
   ]
  },
  {
   "cell_type": "markdown",
   "id": "63a345cb-6d2d-4d4d-8e62-8b2c3d22e49a",
   "metadata": {},
   "source": [
    "## Solve qudratic by completing the square"
   ]
  },
  {
   "cell_type": "code",
   "execution_count": 21,
   "id": "b6f828cf-a693-4c9e-ae92-7d205596cb39",
   "metadata": {},
   "outputs": [
    {
     "name": "stdout",
     "output_type": "stream",
     "text": [
      "Completing the Square Roots: (2.0, 1.0)\n"
     ]
    }
   ],
   "source": [
    "# Solve qudratic by completing the square\n",
    "def completingSquare(a, b, c):\n",
    "    if a != 1:  # Make the coefficient of x^2 to be 1\n",
    "        a, b, c = 1, b / a, c / a\n",
    "    xVertex = -b / 2\n",
    "    yVertex = c - (b ** 2 / 4)\n",
    "    r1 = xVertex + (-yVertex) ** 0.5\n",
    "    r2 = xVertex - (-yVertex) ** 0.5\n",
    "    return (r1, r2)\n",
    "\n",
    "# Coefficients\n",
    "a, b, c = 1, -3, 2\n",
    "\n",
    "roots = completingSquare(a, b, c)\n",
    "print(\"Completing the Square Roots:\", roots)"
   ]
  },
  {
   "cell_type": "markdown",
   "id": "6add513a-7f8a-425c-93ea-87d807b3ad05",
   "metadata": {},
   "source": [
    "## Solve quadratic with numpy"
   ]
  },
  {
   "cell_type": "code",
   "execution_count": 22,
   "id": "214bdbbb-ef98-444e-8ff8-b72c2efbfe80",
   "metadata": {},
   "outputs": [
    {
     "name": "stdout",
     "output_type": "stream",
     "text": [
      "NumPy Roots: [2. 1.]\n"
     ]
    }
   ],
   "source": [
    "import numpy as np\n",
    "\n",
    "def solveQuadraticNumpy(a, b, c):\n",
    "    coef = [a, b, c]\n",
    "    roots = np.roots(coef)\n",
    "    return roots\n",
    "\n",
    "# Coefficients\n",
    "a, b, c = 1, -3, 2\n",
    "\n",
    "roots = solveQuadraticNumpy(a, b, c)\n",
    "print(\"NumPy Roots:\", roots)"
   ]
  },
  {
   "cell_type": "code",
   "execution_count": 23,
   "id": "60a2220f-0c5a-4a24-8523-34a924d9f452",
   "metadata": {},
   "outputs": [],
   "source": [
    "## Solve quadratic with sympy"
   ]
  },
  {
   "cell_type": "code",
   "execution_count": 24,
   "id": "65d6b9be-c4af-48fe-8004-7e903901fe11",
   "metadata": {},
   "outputs": [
    {
     "name": "stdout",
     "output_type": "stream",
     "text": [
      "SymPy Roots: [1, 2]\n"
     ]
    }
   ],
   "source": [
    "from sympy import symbols, Eq, solve\n",
    "\n",
    "def solveQuadraticSympy(a, b, c):\n",
    "    x = symbols('x')\n",
    "    equation = Eq(a*x**2 + b*x + c, 0)\n",
    "    roots = solve(equation, x)\n",
    "    return roots\n",
    "\n",
    "# Coefficients\n",
    "a, b, c = 1, -3, 2\n",
    "\n",
    "roots = solveQuadraticSympy(a, b, c)\n",
    "print(\"SymPy Roots:\", roots)"
   ]
  }
 ],
 "metadata": {
  "kernelspec": {
   "display_name": "Python 3 (ipykernel)",
   "language": "python",
   "name": "python3"
  },
  "language_info": {
   "codemirror_mode": {
    "name": "ipython",
    "version": 3
   },
   "file_extension": ".py",
   "mimetype": "text/x-python",
   "name": "python",
   "nbconvert_exporter": "python",
   "pygments_lexer": "ipython3",
   "version": "3.12.3"
  }
 },
 "nbformat": 4,
 "nbformat_minor": 5
}
