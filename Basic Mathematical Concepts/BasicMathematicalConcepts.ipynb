{
 "cells": [
  {
   "cell_type": "markdown",
   "id": "4a35dc44-d594-447a-acf8-bb04fa51da96",
   "metadata": {},
   "source": [
    "# Numbers"
   ]
  },
  {
   "cell_type": "code",
   "execution_count": 1,
   "id": "43a04580-35d2-4a52-a2a9-92a573245748",
   "metadata": {},
   "outputs": [],
   "source": [
    "# Integers\n",
    "a = 10\n",
    "b = 5\n",
    "# Floating-point numbers\n",
    "x = 5.5\n",
    "y = 2.3\n",
    "# Decimal numbers\n",
    "from decimal import Decimal, getcontext\n",
    "# Set the precision (number of significant digits)\n",
    "getcontext().prec = 6\n",
    "# Creating Decimal objects\n",
    "num1 = Decimal('10.5')\n",
    "num2 = Decimal('4.2')\n",
    "# Fraction numbers\n",
    "from fractions import Fraction\n",
    "# Creating Fraction objects\n",
    "frac1 = Fraction(3, 4)  # Represents 3/4\n",
    "frac2 = Fraction(5, 6)  # Represents 5/6\n",
    "# Complex numbers\n",
    "z1 = complex(2, 3)  # 2 + 3i\n",
    "z2 = complex(1, 4)  # 1 + 4i\n"
   ]
  },
  {
   "cell_type": "markdown",
   "id": "9ada10be-1e34-49c4-9f34-1633ac2a9529",
   "metadata": {},
   "source": [
    "# Arithmetic Operations"
   ]
  },
  {
   "cell_type": "markdown",
   "id": "14e1ea29-64cd-4d2a-b7c6-b19ca2cd738b",
   "metadata": {},
   "source": [
    "## Integer Operations"
   ]
  },
  {
   "cell_type": "code",
   "execution_count": 2,
   "id": "cb19b483-4aa4-413f-8093-c7b950e7485e",
   "metadata": {},
   "outputs": [
    {
     "name": "stdout",
     "output_type": "stream",
     "text": [
      "Integer Operations\n",
      "Addition: 15, Subtraction: 5, Multiplication: 50, Division: 2, Modulus: 0\n"
     ]
    }
   ],
   "source": [
    "# Integer Operations\n",
    "Iadd = a + b\n",
    "Isub = a - b\n",
    "Imul = a * b\n",
    "Idiv = a // b # Integer division\n",
    "Imodulus = a % b\n",
    "print(\"Integer Operations\")\n",
    "print(f\"Addition: {Iadd}, Subtraction: {Isub}, Multiplication: {Imul}, Division: {Idiv}, Modulus: {Imodulus}\")"
   ]
  },
  {
   "cell_type": "markdown",
   "id": "71172b0a-5224-4bdb-84dc-35f12e4afedf",
   "metadata": {},
   "source": [
    "## Floating-point Operations"
   ]
  },
  {
   "cell_type": "code",
   "execution_count": 3,
   "id": "5a75bb78-8631-41f3-a3c6-38bc0ca804cb",
   "metadata": {},
   "outputs": [
    {
     "name": "stdout",
     "output_type": "stream",
     "text": [
      "Floating-point Operations\n",
      "Addition: 7.8, Subtraction: 3.2, Multiplication: 12.649999999999999, Division: 2.3913043478260874\n"
     ]
    }
   ],
   "source": [
    "# Floating-point Operations\n",
    "fadd = x + y\n",
    "fsub = x - y\n",
    "fmul = x * y\n",
    "fdiv = x / y\n",
    "print(\"Floating-point Operations\")\n",
    "print(f\"Addition: {fadd}, Subtraction: {fsub}, Multiplication: {fmul}, Division: {fdiv}\")"
   ]
  },
  {
   "cell_type": "markdown",
   "id": "3c46dee5-a030-47b1-819d-1ac502032926",
   "metadata": {},
   "source": [
    "## Decimal Operations"
   ]
  },
  {
   "cell_type": "code",
   "execution_count": 4,
   "id": "64c6e914-0b40-4ea6-ab97-dafcf8d7bb9c",
   "metadata": {},
   "outputs": [
    {
     "name": "stdout",
     "output_type": "stream",
     "text": [
      "Decimal Operations\n",
      "Addition: 14.7, Subtraction: 6.3, Multiplication: 44.10, Division: 2.5\n"
     ]
    }
   ],
   "source": [
    "# Decimal Operations\n",
    "dadd = num1 + num2\n",
    "dsub = num1 - num2\n",
    "dmul = num1 * num2\n",
    "ddiv = num1 / num2\n",
    "print(\"Decimal Operations\")\n",
    "print(f\"Addition: {dadd}, Subtraction: {dsub}, Multiplication: {dmul}, Division: {ddiv}\")"
   ]
  },
  {
   "cell_type": "markdown",
   "id": "197b7f9b-112a-4cbe-8f90-8ef4f0dd6b90",
   "metadata": {},
   "source": [
    "## Fraction Operations"
   ]
  },
  {
   "cell_type": "code",
   "execution_count": 5,
   "id": "228d39a1-9eb4-450d-9c72-3c19cebbd0d6",
   "metadata": {},
   "outputs": [
    {
     "name": "stdout",
     "output_type": "stream",
     "text": [
      "Fraction Operations\n",
      "Addition: 19/12, Subtraction: -1/12, Multiplication: 5/8, Division: 9/10\n"
     ]
    }
   ],
   "source": [
    "# Fraction Operations\n",
    "fracadd = frac1 + frac2\n",
    "fracsub = frac1 - frac2\n",
    "fracmul = frac1 * frac2\n",
    "fracdiv = frac1 / frac2\n",
    "print(\"Fraction Operations\")\n",
    "print(f\"Addition: {fracadd}, Subtraction: {fracsub}, Multiplication: {fracmul}, Division: {fracdiv}\")"
   ]
  },
  {
   "cell_type": "markdown",
   "id": "1d9d78a4-05f1-4c23-a446-8273da7d5322",
   "metadata": {},
   "source": [
    "## Complex Operations"
   ]
  },
  {
   "cell_type": "code",
   "execution_count": 6,
   "id": "538bdd63-ce7a-41c4-bf38-697a065cce48",
   "metadata": {},
   "outputs": [
    {
     "name": "stdout",
     "output_type": "stream",
     "text": [
      "Complex Operations\n",
      "Addition: (3+7j), Subtraction: (1-1j), Multiplication: (-10+11j), Division: (0.8235294117647058-0.29411764705882354j)\n"
     ]
    }
   ],
   "source": [
    "# Complex Operations\n",
    "cadd = z1 + z2\n",
    "csub = z1 - z2\n",
    "cmul = z1 * z2\n",
    "cdiv = z1 / z2\n",
    "print(\"Complex Operations\")\n",
    "print(f\"Addition: {cadd}, Subtraction: {csub}, Multiplication: {cmul}, Division: {cdiv}\")"
   ]
  },
  {
   "cell_type": "markdown",
   "id": "595f77d2-e203-4e77-8eda-10ad4212a93c",
   "metadata": {},
   "source": [
    "# Exponents and Square Roots"
   ]
  },
  {
   "cell_type": "code",
   "execution_count": 7,
   "id": "07b9aa90-1a71-4c72-beca-769bd004d3e7",
   "metadata": {},
   "outputs": [
    {
     "name": "stdout",
     "output_type": "stream",
     "text": [
      "4 to the power of 3 is 64\n",
      "Square root of 16 is 4.0\n"
     ]
    }
   ],
   "source": [
    "# Exponentiation\n",
    "base = 4\n",
    "exponent = 3\n",
    "power = base ** exponent\n",
    "print(f\"{base} to the power of {exponent} is {power}\")\n",
    "# Square Root\n",
    "import math\n",
    "number = 16\n",
    "sqrt = math.sqrt(number)\n",
    "print(f\"Square root of {number} is {sqrt}\")"
   ]
  },
  {
   "cell_type": "markdown",
   "id": "7940820b-5ac8-4e3c-b12b-d44bd7614c19",
   "metadata": {},
   "source": [
    "# Trigonometry"
   ]
  },
  {
   "cell_type": "code",
   "execution_count": 8,
   "id": "72b7f259-f8a9-441f-93e8-a11c7fa259a4",
   "metadata": {},
   "outputs": [
    {
     "name": "stdout",
     "output_type": "stream",
     "text": [
      "Sine(45°): 0.7071067811865476, Cosine(45°): 0.7071067811865476, Tangent(45°): 0.9999999999999999\n"
     ]
    }
   ],
   "source": [
    "# Trigonometric functions: sine, cosine, and tangent\n",
    "from math import radians, sin, cos, tan\n",
    "\n",
    "angle = radians(45)  # Convert degrees to radians\n",
    "\n",
    "sine = sin(angle)\n",
    "cosine = cos(angle)\n",
    "tangent = tan(angle)\n",
    "\n",
    "print(f\"Sine(45°): {sine}, Cosine(45°): {cosine}, Tangent(45°): {tangent}\")"
   ]
  },
  {
   "cell_type": "markdown",
   "id": "a8a2f5ac-7c92-42ec-9bbf-98bb5186b9a6",
   "metadata": {},
   "source": [
    "# Linear Algebra"
   ]
  },
  {
   "cell_type": "code",
   "execution_count": 9,
   "id": "175b2cb8-ee3f-48de-81da-72146fbb5e53",
   "metadata": {},
   "outputs": [
    {
     "name": "stdout",
     "output_type": "stream",
     "text": [
      "Dot product of [1 2 3] and [4 5 6] is 32\n",
      "Matrix product:\n",
      "[[19 22]\n",
      " [43 50]]\n"
     ]
    }
   ],
   "source": [
    "# Vectors and matrices with NumPy\n",
    "from numpy import array, dot\n",
    "\n",
    "# Define vectors\n",
    "vect1 = array([1, 2, 3])\n",
    "vect2 = array([4, 5, 6])\n",
    "\n",
    "# Dot product\n",
    "dotProduct = dot(vect1, vect2)\n",
    "print(f\"Dot product of {vect1} and {vect2} is {dotProduct}\")\n",
    "\n",
    "# Define matrices\n",
    "mat1 = array([[1, 2], [3, 4]])\n",
    "mat2 = array([[5, 6], [7, 8]])\n",
    "\n",
    "# Matrix multiplication\n",
    "matrixProduct = dot(mat1, mat2)\n",
    "print(f\"Matrix product:\\n{matrixProduct}\")"
   ]
  },
  {
   "cell_type": "markdown",
   "id": "a353eff0-182b-4164-8b34-bb4d0ea964ec",
   "metadata": {},
   "source": [
    "# Statistics"
   ]
  },
  {
   "cell_type": "code",
   "execution_count": 10,
   "id": "5d2dfbbc-1f86-4a16-ba28-a0de7a34b6f2",
   "metadata": {},
   "outputs": [
    {
     "name": "stdout",
     "output_type": "stream",
     "text": [
      "Mean: 30, Median: 30, Standard Deviation: 14.142135623730951\n"
     ]
    }
   ],
   "source": [
    "# Mean, median, and standard deviation with NumPy\n",
    "from statistics import mean, median\n",
    "from numpy import std\n",
    "\n",
    "data = [10, 20, 30, 40, 50]\n",
    "\n",
    "mean = mean(data)\n",
    "median = median(data)\n",
    "stddev = std(data)\n",
    "\n",
    "print(f\"Mean: {mean}, Median: {median}, Standard Deviation: {stddev}\")"
   ]
  }
 ],
 "metadata": {
  "kernelspec": {
   "display_name": "Python 3 (ipykernel)",
   "language": "python",
   "name": "python3"
  },
  "language_info": {
   "codemirror_mode": {
    "name": "ipython",
    "version": 3
   },
   "file_extension": ".py",
   "mimetype": "text/x-python",
   "name": "python",
   "nbconvert_exporter": "python",
   "pygments_lexer": "ipython3",
   "version": "3.12.3"
  }
 },
 "nbformat": 4,
 "nbformat_minor": 5
}
