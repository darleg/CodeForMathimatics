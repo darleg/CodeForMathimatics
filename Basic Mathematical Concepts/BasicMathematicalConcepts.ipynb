{
 "cells": [
  {
   "cell_type": "markdown",
   "id": "9ada10be-1e34-49c4-9f34-1633ac2a9529",
   "metadata": {},
   "source": [
    "# Arithmetic Operations"
   ]
  },
  {
   "cell_type": "code",
   "execution_count": 10,
   "id": "cb19b483-4aa4-413f-8093-c7b950e7485e",
   "metadata": {},
   "outputs": [
    {
     "name": "stdout",
     "output_type": "stream",
     "text": [
      "Addition: 15, Subtraction: 5, Multiplication: 50, Division: 2.0\n"
     ]
    }
   ],
   "source": [
    "# Addition, Subtraction, Multiplication, and Division\n",
    "a = 10\n",
    "b = 5\n",
    "add = a + b\n",
    "sub = a - b\n",
    "mul = a * b\n",
    "div = a / b\n",
    "print(f\"Addition: {add}, Subtraction: {sub}, Multiplication: {mul}, Division: {div}\")"
   ]
  },
  {
   "cell_type": "markdown",
   "id": "595f77d2-e203-4e77-8eda-10ad4212a93c",
   "metadata": {},
   "source": [
    "# Exponents and Square Roots"
   ]
  },
  {
   "cell_type": "code",
   "execution_count": 11,
   "id": "07b9aa90-1a71-4c72-beca-769bd004d3e7",
   "metadata": {},
   "outputs": [
    {
     "name": "stdout",
     "output_type": "stream",
     "text": [
      "4 to the power of 3 is 64\n",
      "Square root of 16 is 4.0\n"
     ]
    }
   ],
   "source": [
    "# Exponentiation\n",
    "base = 4\n",
    "exponent = 3\n",
    "power = base ** exponent\n",
    "print(f\"{base} to the power of {exponent} is {power}\")\n",
    "# Square Root\n",
    "import math\n",
    "number = 16\n",
    "sqrt = math.sqrt(number)\n",
    "print(f\"Square root of {number} is {sqrt}\")"
   ]
  },
  {
   "cell_type": "markdown",
   "id": "7940820b-5ac8-4e3c-b12b-d44bd7614c19",
   "metadata": {},
   "source": [
    "# Trigonometry"
   ]
  },
  {
   "cell_type": "code",
   "execution_count": 8,
   "id": "72b7f259-f8a9-441f-93e8-a11c7fa259a4",
   "metadata": {},
   "outputs": [
    {
     "name": "stdout",
     "output_type": "stream",
     "text": [
      "Sine(45°): 0.7071067811865476, Cosine(45°): 0.7071067811865476, Tangent(45°): 0.9999999999999999\n"
     ]
    }
   ],
   "source": [
    "# Trigonometric functions: sine, cosine, and tangent\n",
    "from math import radians, sin, cos, tan\n",
    "\n",
    "angle = radians(45)  # Convert degrees to radians\n",
    "\n",
    "sine = sin(angle)\n",
    "cosine = cos(angle)\n",
    "tangent = tan(angle)\n",
    "\n",
    "print(f\"Sine(45°): {sine}, Cosine(45°): {cosine}, Tangent(45°): {tangent}\")"
   ]
  },
  {
   "cell_type": "markdown",
   "id": "a8a2f5ac-7c92-42ec-9bbf-98bb5186b9a6",
   "metadata": {},
   "source": [
    "# Linear Algebra"
   ]
  },
  {
   "cell_type": "code",
   "execution_count": 3,
   "id": "175b2cb8-ee3f-48de-81da-72146fbb5e53",
   "metadata": {},
   "outputs": [
    {
     "name": "stdout",
     "output_type": "stream",
     "text": [
      "Dot product of [1 2 3] and [4 5 6] is 32\n",
      "Matrix product:\n",
      "[[19 22]\n",
      " [43 50]]\n"
     ]
    }
   ],
   "source": [
    "# Vectors and matrices with NumPy\n",
    "from numpy import array, dot\n",
    "\n",
    "# Define vectors\n",
    "vect1 = array([1, 2, 3])\n",
    "vect2 = array([4, 5, 6])\n",
    "\n",
    "# Dot product\n",
    "dotProduct = dot(vect1, vect2)\n",
    "print(f\"Dot product of {vect1} and {vect2} is {dotProduct}\")\n",
    "\n",
    "# Define matrices\n",
    "mat1 = array([[1, 2], [3, 4]])\n",
    "mat2 = array([[5, 6], [7, 8]])\n",
    "\n",
    "# Matrix multiplication\n",
    "matrixProduct = dot(mat1, mat2)\n",
    "print(f\"Matrix product:\\n{matrixProduct}\")"
   ]
  },
  {
   "cell_type": "markdown",
   "id": "a353eff0-182b-4164-8b34-bb4d0ea964ec",
   "metadata": {},
   "source": [
    "# Statistics"
   ]
  },
  {
   "cell_type": "code",
   "execution_count": 7,
   "id": "5d2dfbbc-1f86-4a16-ba28-a0de7a34b6f2",
   "metadata": {},
   "outputs": [
    {
     "name": "stdout",
     "output_type": "stream",
     "text": [
      "Mean: 30, Median: 30, Standard Deviation: 14.142135623730951\n"
     ]
    }
   ],
   "source": [
    "# Mean, median, and standard deviation with NumPy\n",
    "from statistics import mean, median\n",
    "from numpy import std\n",
    "\n",
    "data = [10, 20, 30, 40, 50]\n",
    "\n",
    "mean = mean(data)\n",
    "median = median(data)\n",
    "stddev = std(data)\n",
    "\n",
    "print(f\"Mean: {mean}, Median: {median}, Standard Deviation: {stddev}\")"
   ]
  },
  {
   "cell_type": "code",
   "execution_count": null,
   "id": "80b03395-a6b1-46c4-8ccb-c6cc63649d0f",
   "metadata": {},
   "outputs": [],
   "source": []
  }
 ],
 "metadata": {
  "kernelspec": {
   "display_name": "Python 3 (ipykernel)",
   "language": "python",
   "name": "python3"
  },
  "language_info": {
   "codemirror_mode": {
    "name": "ipython",
    "version": 3
   },
   "file_extension": ".py",
   "mimetype": "text/x-python",
   "name": "python",
   "nbconvert_exporter": "python",
   "pygments_lexer": "ipython3",
   "version": "3.12.3"
  }
 },
 "nbformat": 4,
 "nbformat_minor": 5
}
